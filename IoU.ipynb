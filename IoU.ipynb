{
 "cells": [
  {
   "cell_type": "code",
   "execution_count": 55,
   "id": "8a135f54-6dda-4de8-9b0a-7406a95ca32d",
   "metadata": {},
   "outputs": [
    {
     "name": "stdout",
     "output_type": "stream",
     "text": [
      "IoU = 0.6680113054663505\n"
     ]
    }
   ],
   "source": [
    "import cv2\n",
    "im1 = cv2.imread(r\"C:\\Users\\Acer\\Desktop\\Frame_human5.jpg\")\n",
    "im2 = cv2.imread(r\"C:\\Users\\Acer\\Desktop\\Frame_mask5.jpg\")\n",
    "mask = cv2.inRange(im1, (125, 125, 125), (255, 255, 255))\n",
    "maskH = cv2.inRange(im2, (125, 125, 125), (255, 255, 255))\n",
    "maskI = cv2.bitwise_and(mask, maskH)\n",
    "maskU = cv2.bitwise_or(mask, maskH)\n",
    "areaI = cv2.countNonZero(maskI) \n",
    "areaU= cv2.countNonZero(maskU)\n",
    "print(\"IoU = \" + str(areaI / areaU))\n"
   ]
  },
  {
   "cell_type": "code",
   "execution_count": null,
   "id": "eb641f59-8336-4c6a-be6b-8eec0b94eb52",
   "metadata": {},
   "outputs": [],
   "source": []
  }
 ],
 "metadata": {
  "kernelspec": {
   "display_name": "Python 3 (ipykernel)",
   "language": "python",
   "name": "python3"
  },
  "language_info": {
   "codemirror_mode": {
    "name": "ipython",
    "version": 3
   },
   "file_extension": ".py",
   "mimetype": "text/x-python",
   "name": "python",
   "nbconvert_exporter": "python",
   "pygments_lexer": "ipython3",
   "version": "3.12.4"
  }
 },
 "nbformat": 4,
 "nbformat_minor": 5
}
